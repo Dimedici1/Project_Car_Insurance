{
 "cells": [
  {
   "cell_type": "code",
   "execution_count": 1,
   "metadata": {},
   "outputs": [],
   "source": [
    "import pandas as pd\n",
    "from data.Functions import data_processing"
   ]
  },
  {
   "cell_type": "code",
   "execution_count": 2,
   "metadata": {},
   "outputs": [],
   "source": [
    "data = pd.read_csv('data/ml_gw_car_insurance.csv')"
   ]
  },
  {
   "cell_type": "code",
   "execution_count": 3,
   "metadata": {},
   "outputs": [
    {
     "data": {
      "text/plain": [
       "array(['F8D Petrol Engine', '1.2 L K12N Dualjet', '1.0 SCe',\n",
       "       '1.5 L U2 CRDi', '1.5 Turbocharged Revotorq', 'K Series Dual jet',\n",
       "       '1.2 L K Series Engine', 'K10C', 'i-DTEC', 'G12B',\n",
       "       '1.5 Turbocharged Revotron'], dtype=object)"
      ]
     },
     "execution_count": 3,
     "metadata": {},
     "output_type": "execute_result"
    }
   ],
   "source": [
    "data.engine_type.unique()"
   ]
  },
  {
   "cell_type": "code",
   "execution_count": 4,
   "metadata": {},
   "outputs": [],
   "source": [
    "dataset = data_processing(data)\n"
   ]
  },
  {
   "cell_type": "code",
   "execution_count": 5,
   "metadata": {},
   "outputs": [
    {
     "name": "stdout",
     "output_type": "stream",
     "text": [
      "<class 'pandas.core.frame.DataFrame'>\n",
      "Int64Index: 58592 entries, 0 to 58591\n",
      "Data columns (total 80 columns):\n",
      " #   Column                                 Non-Null Count  Dtype  \n",
      "---  ------                                 --------------  -----  \n",
      " 0   policy_tenure                          58592 non-null  float64\n",
      " 1   age_of_car                             58592 non-null  float64\n",
      " 2   age_of_policyholder                    58592 non-null  float64\n",
      " 3   area_cluster                           58592 non-null  int64  \n",
      " 4   population_density                     58592 non-null  int64  \n",
      " 5   make                                   58592 non-null  int64  \n",
      " 6   model                                  58592 non-null  int64  \n",
      " 7   airbags                                58592 non-null  int64  \n",
      " 8   is_esc                                 58592 non-null  int64  \n",
      " 9   is_adjustable_steering                 58592 non-null  int64  \n",
      " 10  is_tpms                                58592 non-null  int64  \n",
      " 11  is_parking_sensors                     58592 non-null  int64  \n",
      " 12  is_parking_camera                      58592 non-null  int64  \n",
      " 13  displacement                           58592 non-null  int64  \n",
      " 14  cylinder                               58592 non-null  int64  \n",
      " 15  gear_box                               58592 non-null  int64  \n",
      " 16  turning_radius                         58592 non-null  float64\n",
      " 17  length                                 58592 non-null  int64  \n",
      " 18  width                                  58592 non-null  int64  \n",
      " 19  height                                 58592 non-null  int64  \n",
      " 20  gross_weight                           58592 non-null  int64  \n",
      " 21  is_front_fog_lights                    58592 non-null  int64  \n",
      " 22  is_rear_window_wiper                   58592 non-null  int64  \n",
      " 23  is_rear_window_washer                  58592 non-null  int64  \n",
      " 24  is_rear_window_defogger                58592 non-null  int64  \n",
      " 25  is_brake_assist                        58592 non-null  int64  \n",
      " 26  is_power_door_locks                    58592 non-null  int64  \n",
      " 27  is_central_locking                     58592 non-null  int64  \n",
      " 28  is_power_steering                      58592 non-null  int64  \n",
      " 29  is_driver_seat_height_adjustable       58592 non-null  int64  \n",
      " 30  is_day_night_rear_view_mirror          58592 non-null  int64  \n",
      " 31  is_ecw                                 58592 non-null  int64  \n",
      " 32  is_speed_alert                         58592 non-null  int64  \n",
      " 33  ncap_rating                            58592 non-null  int64  \n",
      " 34  is_claim                               58592 non-null  float64\n",
      " 35  torque_113Nm@4400rpm                   58592 non-null  uint8  \n",
      " 36  torque_170Nm@4000rpm                   58592 non-null  uint8  \n",
      " 37  torque_200Nm@1750rpm                   58592 non-null  uint8  \n",
      " 38  torque_200Nm@3000rpm                   58592 non-null  uint8  \n",
      " 39  torque_250Nm@2750rpm                   58592 non-null  uint8  \n",
      " 40  torque_60Nm@3500rpm                    58592 non-null  uint8  \n",
      " 41  torque_82.1Nm@3400rpm                  58592 non-null  uint8  \n",
      " 42  torque_85Nm@3000rpm                    58592 non-null  uint8  \n",
      " 43  torque_91Nm@4250rpm                    58592 non-null  uint8  \n",
      " 44  power_113.45bhp@4000rpm                58592 non-null  uint8  \n",
      " 45  power_118.36bhp@5500rpm                58592 non-null  uint8  \n",
      " 46  power_40.36bhp@6000rpm                 58592 non-null  uint8  \n",
      " 47  power_55.92bhp@5300rpm                 58592 non-null  uint8  \n",
      " 48  power_61.68bhp@6000rpm                 58592 non-null  uint8  \n",
      " 49  power_67.06bhp@5500rpm                 58592 non-null  uint8  \n",
      " 50  power_88.50bhp@6000rpm                 58592 non-null  uint8  \n",
      " 51  power_88.77bhp@4000rpm                 58592 non-null  uint8  \n",
      " 52  power_97.89bhp@3600rpm                 58592 non-null  uint8  \n",
      " 53  fuel_type_CNG                          58592 non-null  uint8  \n",
      " 54  fuel_type_Diesel                       58592 non-null  uint8  \n",
      " 55  fuel_type_Petrol                       58592 non-null  uint8  \n",
      " 56  rear_brakes_Disc                       58592 non-null  uint8  \n",
      " 57  rear_brakes_Drum                       58592 non-null  uint8  \n",
      " 58  transmission_type_Automatic            58592 non-null  uint8  \n",
      " 59  transmission_type_Manual               58592 non-null  uint8  \n",
      " 60  segment_A                              58592 non-null  uint8  \n",
      " 61  segment_B1                             58592 non-null  uint8  \n",
      " 62  segment_B2                             58592 non-null  uint8  \n",
      " 63  segment_C1                             58592 non-null  uint8  \n",
      " 64  segment_C2                             58592 non-null  uint8  \n",
      " 65  segment_Utility                        58592 non-null  uint8  \n",
      " 66  steering_type_Electric                 58592 non-null  uint8  \n",
      " 67  steering_type_Manual                   58592 non-null  uint8  \n",
      " 68  steering_type_Power                    58592 non-null  uint8  \n",
      " 69  engine_type_1.0 SCe                    58592 non-null  uint8  \n",
      " 70  engine_type_1.2 L K Series Engine      58592 non-null  uint8  \n",
      " 71  engine_type_1.2 L K12N Dualjet         58592 non-null  uint8  \n",
      " 72  engine_type_1.5 L U2 CRDi              58592 non-null  uint8  \n",
      " 73  engine_type_1.5 Turbocharged Revotorq  58592 non-null  uint8  \n",
      " 74  engine_type_1.5 Turbocharged Revotron  58592 non-null  uint8  \n",
      " 75  engine_type_F8D Petrol Engine          58592 non-null  uint8  \n",
      " 76  engine_type_G12B                       58592 non-null  uint8  \n",
      " 77  engine_type_K Series Dual jet          58592 non-null  uint8  \n",
      " 78  engine_type_K10C                       58592 non-null  uint8  \n",
      " 79  engine_type_i-DTEC                     58592 non-null  uint8  \n",
      "dtypes: float64(5), int64(30), uint8(45)\n",
      "memory usage: 18.6 MB\n"
     ]
    }
   ],
   "source": [
    "dataset.info()"
   ]
  },
  {
   "cell_type": "code",
   "execution_count": 6,
   "metadata": {},
   "outputs": [
    {
     "data": {
      "text/plain": [
       "0.0    54844\n",
       "1.0     3748\n",
       "Name: is_claim, dtype: int64"
      ]
     },
     "execution_count": 6,
     "metadata": {},
     "output_type": "execute_result"
    }
   ],
   "source": [
    "dataset.is_claim.value_counts()"
   ]
  }
 ],
 "metadata": {
  "kernelspec": {
   "display_name": "nova",
   "language": "python",
   "name": "python3"
  },
  "language_info": {
   "codemirror_mode": {
    "name": "ipython",
    "version": 3
   },
   "file_extension": ".py",
   "mimetype": "text/x-python",
   "name": "python",
   "nbconvert_exporter": "python",
   "pygments_lexer": "ipython3",
   "version": "3.10.10"
  },
  "orig_nbformat": 4
 },
 "nbformat": 4,
 "nbformat_minor": 2
}
