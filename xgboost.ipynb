{
 "cells": [
  {
   "cell_type": "code",
   "execution_count": 1,
   "metadata": {},
   "outputs": [],
   "source": [
    "import pandas as pd\n",
    "from data.Functions import *\n",
    "\n",
    "from sklearn.ensemble import RandomForestClassifier\n",
    "from sklearn.model_selection import train_test_split\n",
    "from sklearn.metrics import accuracy_score, recall_score, precision_score, f1_score, roc_auc_score\n",
    "import numpy as np\n",
    "import matplotlib.pyplot as plt\n",
    "import seaborn as sns\n",
    "from sklearn.metrics import confusion_matrix\n",
    "from sklearn.metrics import classification_report\n",
    "from xgboost import XGBRegressor\n",
    "from sklearn.model_selection import GridSearchCV"
   ]
  },
  {
   "attachments": {},
   "cell_type": "markdown",
   "metadata": {},
   "source": [
    "# Loading the dataset"
   ]
  },
  {
   "cell_type": "code",
   "execution_count": 2,
   "metadata": {},
   "outputs": [
    {
     "data": {
      "text/plain": [
       "Index(['Unnamed: 0', 'policy_id', 'policy_tenure', 'age_of_car',\n",
       "       'age_of_policyholder', 'area_cluster', 'population_density', 'make',\n",
       "       'segment', 'model', 'fuel_type', 'max_torque', 'max_power',\n",
       "       'engine_type', 'airbags', 'is_esc', 'is_adjustable_steering', 'is_tpms',\n",
       "       'is_parking_sensors', 'is_parking_camera', 'rear_brakes_type',\n",
       "       'displacement', 'cylinder', 'transmission_type', 'gear_box',\n",
       "       'steering_type', 'turning_radius', 'length', 'width', 'height',\n",
       "       'gross_weight', 'is_front_fog_lights', 'is_rear_window_wiper',\n",
       "       'is_rear_window_washer', 'is_rear_window_defogger', 'is_brake_assist',\n",
       "       'is_power_door_locks', 'is_central_locking', 'is_power_steering',\n",
       "       'is_driver_seat_height_adjustable', 'is_day_night_rear_view_mirror',\n",
       "       'is_ecw', 'is_speed_alert', 'ncap_rating', 'is_claim'],\n",
       "      dtype='object')"
      ]
     },
     "execution_count": 2,
     "metadata": {},
     "output_type": "execute_result"
    }
   ],
   "source": [
    "data = pd.read_csv('data/ml_gw_car_insurance.csv')\n",
    "data.columns"
   ]
  },
  {
   "cell_type": "code",
   "execution_count": 3,
   "metadata": {},
   "outputs": [],
   "source": [
    "#dataset = data_processing(data)\n",
    "dataset = lorenzo_preprocessor(data)"
   ]
  },
  {
   "attachments": {},
   "cell_type": "markdown",
   "metadata": {},
   "source": [
    "# Functions\n",
    "\n",
    "One function will directly split the dataset into train and test and output the model results with the defined parameters for XGBoost.\n",
    "The results will be a prediciton from 0 to 1.\n",
    "\n",
    "The second function elaborates a table with different methods to choose the optimal decision threshold (to distinguish positive and negative outcomes)\n",
    "- Default: Use the default 0,5 threshold;\n",
    "- Precision-Recall trade-off: Optimize PR trade-off (using F1 Score);\n",
    "- Balanced Accuracy: Maximize Sensitivity and Specificity average;\n",
    "- Cohen's Kappa: Maximize a statistic that measures inter-annotator agreement. (Similarity between predicitons and real values)."
   ]
  },
  {
   "cell_type": "code",
   "execution_count": 12,
   "metadata": {},
   "outputs": [],
   "source": [
    "#Functions\n",
    "\n",
    "import xgboost as xgb\n",
    "from sklearn.metrics import accuracy_score, recall_score, precision_score, precision_recall_curve, auc, confusion_matrix, cohen_kappa_score\n",
    "\n",
    "\n",
    "def xgb_classifier(features, target):\n",
    "    # split X and y into training and testing sets\n",
    "    X_train, X_test, y_train, y_test = train_test_split(X, y, test_size=0.2,random_state=16,shuffle=False)\n",
    "\n",
    "    # Convert data into DMatrix format\n",
    "    dtrain = xgb.DMatrix(X_train, label=y_train, enable_categorical = True)\n",
    "    dtest = xgb.DMatrix(X_test, enable_categorical = True)\n",
    "\n",
    "    # Set parameters for the XGBoost model\n",
    "    param = {\n",
    "        'max_depth': 3,\n",
    "        'eta': 0.05,\n",
    "        'objective': 'binary:logistic',\n",
    "        'seed': 16\n",
    "    }\n",
    "\n",
    "    # Train the model\n",
    "    num_round = 10\n",
    "    bst = xgb.train(param, dtrain, num_round)\n",
    "\n",
    "    # Make preictions on the train set\n",
    "    y_pred_train = bst.predict(dtrain)\n",
    "    # Make predictions on the test set\n",
    "    y_pred_test = bst.predict(dtest)\n",
    "    \n",
    "    return y_pred_train, y_pred_test, bst.get_score(), X_train, X_test, y_train, y_test  \n",
    "\n",
    "\n",
    "def evaluate_thresholds(y_pred_train, y_train, y_pred_test, y_test, metrics = \"test\"):\n",
    "\n",
    "    if metrics == \"test\":\n",
    "        # Default threshold (0.5)\n",
    "        default_threshold = 0.5\n",
    "        default_y_pred_binary = (y_pred_test >= default_threshold).astype(int)\n",
    "        default_accuracy = accuracy_score(y_test, default_y_pred_binary)\n",
    "        default_recall = recall_score(y_test, default_y_pred_binary)\n",
    "        default_precision = precision_score(y_test, default_y_pred_binary)\n",
    "        default_roc_auc = roc_auc_score(y_test, default_y_pred_binary)\n",
    "        default_f1 = f1_score(y_test, default_y_pred_binary, pos_label=1)\n",
    "        \n",
    "        # Define thresholds\n",
    "    \n",
    "\n",
    "        # Precision-Recall trade-off\n",
    "        precision, recall, thresholds = precision_recall_curve(y_train, y_pred_train)\n",
    "        f1_scores = 2 * precision * recall / (precision + recall)\n",
    "        best_index = pd.Series(f1_scores).idxmax()\n",
    "        pr_threshold = thresholds[best_index]\n",
    "        pr_y_pred_binary = (y_pred_test >= pr_threshold).astype(int)\n",
    "        pr_accuracy = accuracy_score(y_test, pr_y_pred_binary)\n",
    "        pr_recall = recall_score(y_test, pr_y_pred_binary)\n",
    "        pr_precision = precision_score(y_test, pr_y_pred_binary)\n",
    "        pr_roc_auc = roc_auc_score(y_test, pr_y_pred_binary)\n",
    "        pr_f1 = f1_score(y_test, pr_y_pred_binary, pos_label=1)\n",
    "        \n",
    "        thresholds = np.linspace(0, 1, 100)\n",
    "\n",
    "        # Balanced Accuracy\n",
    "        cms = [confusion_matrix(y_train, (y_pred_train >= t).astype(int)) for t in thresholds]\n",
    "        sensitivity = [cm[1, 1] / (cm[1, 1] + cm[1, 0]) for cm in cms]\n",
    "        specificity = [cm[0, 0] / (cm[0, 0] + cm[0, 1]) for cm in cms]\n",
    "        balanced_accuracy = [(s + sp) / 2 for s, sp in zip(sensitivity, specificity)]\n",
    "        ba_threshold = thresholds[np.argmax(balanced_accuracy)]\n",
    "        ba_y_pred_binary = (y_pred_test >= ba_threshold).astype(int)\n",
    "        ba_accuracy = accuracy_score(y_test, ba_y_pred_binary)\n",
    "        ba_recall = recall_score(y_test, ba_y_pred_binary)\n",
    "        ba_precision = precision_score(y_test, ba_y_pred_binary)\n",
    "        ba_roc_auc = roc_auc_score(y_test, ba_y_pred_binary)\n",
    "        ba_f1 = f1_score(y_test, ba_y_pred_binary, pos_label=1)\n",
    "        \n",
    "        # Cohen's Kappa\n",
    "        kappas = [cohen_kappa_score(y_train, (y_pred_train >= t).astype(int)) for t in thresholds]\n",
    "        kappa_threshold = thresholds[np.argmax(kappas)]\n",
    "        kappa_y_pred_binary = (y_pred_test >= kappa_threshold).astype(int)\n",
    "        kappa_kappa = cohen_kappa_score(y_test, kappa_y_pred_binary)\n",
    "        kappa_accuracy = accuracy_score(y_test, kappa_y_pred_binary)\n",
    "        kappa_recall = recall_score(y_test, kappa_y_pred_binary)\n",
    "        kappa_precision = precision_score(y_test, kappa_y_pred_binary)\n",
    "        kappa_roc_auc = roc_auc_score(y_test, kappa_y_pred_binary)\n",
    "        kappa_f1 = f1_score(y_test, kappa_y_pred_binary, pos_label=1)\n",
    "\n",
    "\n",
    "    else:\n",
    "        # Default threshold (0.5)\n",
    "        default_threshold = 0.5\n",
    "        default_y_pred_binary = (y_pred_train >= default_threshold).astype(int)\n",
    "        default_accuracy = accuracy_score(y_train, default_y_pred_binary)\n",
    "        default_recall = recall_score(y_train, default_y_pred_binary)\n",
    "        default_precision = precision_score(y_train, default_y_pred_binary)\n",
    "        default_roc_auc = roc_auc_score(y_train, default_y_pred_binary)\n",
    "        default_f1 = f1_score(y_train, default_y_pred_binary, pos_label=1)\n",
    "        \n",
    "        # Define thresholds\n",
    "    \n",
    "\n",
    "        # Precision-Recall trade-off\n",
    "        precision, recall, thresholds = precision_recall_curve(y_train, y_pred_train)\n",
    "        f1_scores = 2 * precision * recall / (precision + recall)\n",
    "        best_index = pd.Series(f1_scores).idxmax()\n",
    "        pr_threshold = thresholds[best_index]\n",
    "        pr_y_pred_binary = (y_pred_train >= pr_threshold).astype(int)\n",
    "        pr_accuracy = accuracy_score(y_train, pr_y_pred_binary)\n",
    "        pr_recall = recall_score(y_train, pr_y_pred_binary)\n",
    "        pr_precision = precision_score(y_train, pr_y_pred_binary)\n",
    "        pr_roc_auc = roc_auc_score(y_train, pr_y_pred_binary)\n",
    "        pr_f1 = f1_score(y_train, pr_y_pred_binary, pos_label=1)\n",
    "        \n",
    "        thresholds = np.linspace(0, 1, 100)\n",
    "\n",
    "        # Balanced Accuracy\n",
    "        cms = [confusion_matrix(y_train, (y_pred_train >= t).astype(int)) for t in thresholds]\n",
    "        sensitivity = [cm[1, 1] / (cm[1, 1] + cm[1, 0]) for cm in cms]\n",
    "        specificity = [cm[0, 0] / (cm[0, 0] + cm[0, 1]) for cm in cms]\n",
    "        balanced_accuracy = [(s + sp) / 2 for s, sp in zip(sensitivity, specificity)]\n",
    "        ba_threshold = thresholds[np.argmax(balanced_accuracy)]\n",
    "        ba_y_pred_binary = (y_pred_train >= ba_threshold).astype(int)\n",
    "        ba_accuracy = accuracy_score(y_train, ba_y_pred_binary)\n",
    "        ba_recall = recall_score(y_train, ba_y_pred_binary)\n",
    "        ba_precision = precision_score(y_train, ba_y_pred_binary)\n",
    "        ba_roc_auc = roc_auc_score(y_train, ba_y_pred_binary)\n",
    "        ba_f1 = f1_score(y_train, ba_y_pred_binary, pos_label=1)\n",
    "        \n",
    "        # Cohen's Kappa\n",
    "        kappas = [cohen_kappa_score(y_train, (y_pred_train >= t).astype(int)) for t in thresholds]\n",
    "        kappa_threshold = thresholds[np.argmax(kappas)]\n",
    "        kappa_y_pred_binary = (y_pred_train >= kappa_threshold).astype(int)\n",
    "        kappa_kappa = cohen_kappa_score(y_train, kappa_y_pred_binary)\n",
    "        kappa_accuracy = accuracy_score(y_train, kappa_y_pred_binary)\n",
    "        kappa_recall = recall_score(y_train, kappa_y_pred_binary)\n",
    "        kappa_precision = precision_score(y_train, kappa_y_pred_binary)\n",
    "        kappa_roc_auc = roc_auc_score(y_train, kappa_y_pred_binary)\n",
    "        kappa_f1 = f1_score(y_train, kappa_y_pred_binary, pos_label=1)\n",
    "\n",
    "    # Create output dataframe\n",
    "    data = {\n",
    "        'Analysis': ['Default', 'Precision-Recall trade-off', 'Balanced Accuracy', \"Cohen's Kappa\"],\n",
    "        'Threshold': [round(default_threshold, 2), round(pr_threshold, 2), round(ba_threshold, 2), round(kappa_threshold, 2)],\n",
    "        'Accuracy': [round(default_accuracy, 2), round(pr_accuracy, 2), round(ba_accuracy, 2), round(kappa_accuracy, 2)], \n",
    "        'Recall': [round(default_recall, 2), round(pr_recall, 2), round(ba_recall, 2), round(kappa_recall, 2)], \n",
    "        'Precision': [round(default_precision, 2), round(pr_precision, 2), round(ba_precision, 2), round(kappa_precision, 2)],\n",
    "        'f1_score': [round(default_f1,2), round(pr_f1, 2), round(ba_f1, 2), round(kappa_f1, 2)],\n",
    "        'roc_auc': [round(default_roc_auc,2), round(pr_roc_auc, 2), round(ba_roc_auc, 2), round(kappa_roc_auc, 2)],\n",
    "\n",
    "        #'Precision@K': [round(default_precision_at_k, 2), round(pr_precision_at_k, 2), round(ba_precision_at_k, 2), round(kappa_precision_at_k, 2), round(limit_to_k_precision_at_k, 2)]\n",
    "    }\n",
    "    \n",
    "    df = pd.DataFrame(data)\n",
    "    return df\n",
    "\n"
   ]
  },
  {
   "attachments": {},
   "cell_type": "markdown",
   "metadata": {},
   "source": [
    "# XGBoost Model\n",
    "\n",
    "Using previous functions to elaborate the model.\n",
    "\n",
    "Feature importance graphs shows the features selected by the model and their impact. The features are chosen based on the train set only.\n"
   ]
  },
  {
   "cell_type": "code",
   "execution_count": 13,
   "metadata": {},
   "outputs": [],
   "source": [
    "X = dataset.drop(['is_claim'],axis=1) # Features\n",
    "y = dataset.is_claim # Target variable\n",
    "features=X.columns\n",
    "y_pred_train, y_pred_test, model_score, X_train, X_test, y_train, y_test = xgb_classifier(X,y)"
   ]
  },
  {
   "cell_type": "code",
   "execution_count": 14,
   "metadata": {},
   "outputs": [
    {
     "data": {
      "image/png": "[encoded data removed]",
      "text/plain": [
       "<Figure size 640x480 with 1 Axes>"
      ]
     },
     "metadata": {},
     "output_type": "display_data"
    }
   ],
   "source": [
    "from xgboost import plot_importance\n",
    "\n",
    "# Plot the feature importance scores\n",
    "plot_importance(model_score)\n",
    "plt.show()"
   ]
  },
  {
   "cell_type": "code",
   "execution_count": 15,
   "metadata": {},
   "outputs": [
    {
     "name": "stderr",
     "output_type": "stream",
     "text": [
      "/usr/local/lib/python3.11/site-packages/sklearn/metrics/_classification.py:1344: UndefinedMetricWarning: Precision is ill-defined and being set to 0.0 due to no predicted samples. Use `zero_division` parameter to control this behavior.\n",
      "  _warn_prf(average, modifier, msg_start, len(result))\n"
     ]
    },
    {
     "data": {
      "text/html": [
       "<div>\n",
       "<style scoped>\n",
       "    .dataframe tbody tr th:only-of-type {\n",
       "        vertical-align: middle;\n",
       "    }\n",
       "\n",
       "    .dataframe tbody tr th {\n",
       "        vertical-align: top;\n",
       "    }\n",
       "\n",
       "    .dataframe thead th {\n",
       "        text-align: right;\n",
       "    }\n",
       "</style>\n",
       "<table border=\"1\" class=\"dataframe\">\n",
       "  <thead>\n",
       "    <tr style=\"text-align: right;\">\n",
       "      <th></th>\n",
       "      <th>Analysis</th>\n",
       "      <th>Threshold</th>\n",
       "      <th>Accuracy</th>\n",
       "      <th>Recall</th>\n",
       "      <th>Precision</th>\n",
       "      <th>f1_score</th>\n",
       "      <th>roc_auc</th>\n",
       "    </tr>\n",
       "  </thead>\n",
       "  <tbody>\n",
       "    <tr>\n",
       "      <th>0</th>\n",
       "      <td>Default</td>\n",
       "      <td>0.50</td>\n",
       "      <td>0.94</td>\n",
       "      <td>0.00</td>\n",
       "      <td>0.00</td>\n",
       "      <td>0.00</td>\n",
       "      <td>0.50</td>\n",
       "    </tr>\n",
       "    <tr>\n",
       "      <th>1</th>\n",
       "      <td>Precision-Recall trade-off</td>\n",
       "      <td>0.34</td>\n",
       "      <td>0.75</td>\n",
       "      <td>0.42</td>\n",
       "      <td>0.11</td>\n",
       "      <td>0.18</td>\n",
       "      <td>0.60</td>\n",
       "    </tr>\n",
       "    <tr>\n",
       "      <th>2</th>\n",
       "      <td>Balanced Accuracy</td>\n",
       "      <td>0.33</td>\n",
       "      <td>0.68</td>\n",
       "      <td>0.54</td>\n",
       "      <td>0.11</td>\n",
       "      <td>0.18</td>\n",
       "      <td>0.62</td>\n",
       "    </tr>\n",
       "    <tr>\n",
       "      <th>3</th>\n",
       "      <td>Cohen's Kappa</td>\n",
       "      <td>0.34</td>\n",
       "      <td>0.89</td>\n",
       "      <td>0.13</td>\n",
       "      <td>0.14</td>\n",
       "      <td>0.14</td>\n",
       "      <td>0.54</td>\n",
       "    </tr>\n",
       "  </tbody>\n",
       "</table>\n",
       "</div>"
      ],
      "text/plain": [
       "                     Analysis  Threshold  Accuracy  Recall  Precision   \n",
       "0                     Default       0.50      0.94    0.00       0.00  \\\n",
       "1  Precision-Recall trade-off       0.34      0.75    0.42       0.11   \n",
       "2           Balanced Accuracy       0.33      0.68    0.54       0.11   \n",
       "3               Cohen's Kappa       0.34      0.89    0.13       0.14   \n",
       "\n",
       "   f1_score  roc_auc  \n",
       "0      0.00     0.50  \n",
       "1      0.18     0.60  \n",
       "2      0.18     0.62  \n",
       "3      0.14     0.54  "
      ]
     },
     "execution_count": 15,
     "metadata": {},
     "output_type": "execute_result"
    }
   ],
   "source": [
    "evaluate_thresholds(y_pred_train,y_train,y_pred_test,y_test,metrics=\"train\")"
   ]
  },
  {
   "cell_type": "code",
   "execution_count": 16,
   "metadata": {},
   "outputs": [
    {
     "name": "stderr",
     "output_type": "stream",
     "text": [
      "/usr/local/lib/python3.11/site-packages/sklearn/metrics/_classification.py:1344: UndefinedMetricWarning: Precision is ill-defined and being set to 0.0 due to no predicted samples. Use `zero_division` parameter to control this behavior.\n",
      "  _warn_prf(average, modifier, msg_start, len(result))\n"
     ]
    },
    {
     "data": {
      "text/html": [
       "<div>\n",
       "<style scoped>\n",
       "    .dataframe tbody tr th:only-of-type {\n",
       "        vertical-align: middle;\n",
       "    }\n",
       "\n",
       "    .dataframe tbody tr th {\n",
       "        vertical-align: top;\n",
       "    }\n",
       "\n",
       "    .dataframe thead th {\n",
       "        text-align: right;\n",
       "    }\n",
       "</style>\n",
       "<table border=\"1\" class=\"dataframe\">\n",
       "  <thead>\n",
       "    <tr style=\"text-align: right;\">\n",
       "      <th></th>\n",
       "      <th>Analysis</th>\n",
       "      <th>Threshold</th>\n",
       "      <th>Accuracy</th>\n",
       "      <th>Recall</th>\n",
       "      <th>Precision</th>\n",
       "      <th>f1_score</th>\n",
       "      <th>roc_auc</th>\n",
       "    </tr>\n",
       "  </thead>\n",
       "  <tbody>\n",
       "    <tr>\n",
       "      <th>0</th>\n",
       "      <td>Default</td>\n",
       "      <td>0.50</td>\n",
       "      <td>0.94</td>\n",
       "      <td>0.00</td>\n",
       "      <td>0.00</td>\n",
       "      <td>0.00</td>\n",
       "      <td>0.50</td>\n",
       "    </tr>\n",
       "    <tr>\n",
       "      <th>1</th>\n",
       "      <td>Precision-Recall trade-off</td>\n",
       "      <td>0.34</td>\n",
       "      <td>0.75</td>\n",
       "      <td>0.39</td>\n",
       "      <td>0.10</td>\n",
       "      <td>0.16</td>\n",
       "      <td>0.58</td>\n",
       "    </tr>\n",
       "    <tr>\n",
       "      <th>2</th>\n",
       "      <td>Balanced Accuracy</td>\n",
       "      <td>0.33</td>\n",
       "      <td>0.68</td>\n",
       "      <td>0.51</td>\n",
       "      <td>0.10</td>\n",
       "      <td>0.17</td>\n",
       "      <td>0.60</td>\n",
       "    </tr>\n",
       "    <tr>\n",
       "      <th>3</th>\n",
       "      <td>Cohen's Kappa</td>\n",
       "      <td>0.34</td>\n",
       "      <td>0.89</td>\n",
       "      <td>0.11</td>\n",
       "      <td>0.12</td>\n",
       "      <td>0.11</td>\n",
       "      <td>0.53</td>\n",
       "    </tr>\n",
       "  </tbody>\n",
       "</table>\n",
       "</div>"
      ],
      "text/plain": [
       "                     Analysis  Threshold  Accuracy  Recall  Precision   \n",
       "0                     Default       0.50      0.94    0.00       0.00  \\\n",
       "1  Precision-Recall trade-off       0.34      0.75    0.39       0.10   \n",
       "2           Balanced Accuracy       0.33      0.68    0.51       0.10   \n",
       "3               Cohen's Kappa       0.34      0.89    0.11       0.12   \n",
       "\n",
       "   f1_score  roc_auc  \n",
       "0      0.00     0.50  \n",
       "1      0.16     0.58  \n",
       "2      0.17     0.60  \n",
       "3      0.11     0.53  "
      ]
     },
     "execution_count": 16,
     "metadata": {},
     "output_type": "execute_result"
    }
   ],
   "source": [
    "evaluate_thresholds(y_pred_train,y_train,y_pred_test,y_test,metrics=\"test\")"
   ]
  },
  {
   "attachments": {},
   "cell_type": "markdown",
   "metadata": {},
   "source": [
    "Results aren't very good when calculated on the train set and deteriorate event more when calculated on the test set. However, based on the business problem, metrics that are relevant for the analysis and representation of risk that the insurance company could take (Recall and Roc-Auc), the best model would be the one built using balanced accuracy, wich has the highest recall and the highest roc-auc. Still the"
   ]
  },
  {
   "cell_type": "code",
   "execution_count": 9,
   "metadata": {},
   "outputs": [
    {
     "data": {
      "image/png": "[encoded data removed]",
      "text/plain": [
       "<Figure size 640x480 with 1 Axes>"
      ]
     },
     "metadata": {},
     "output_type": "display_data"
    }
   ],
   "source": [
    "from sklearn.metrics import roc_curve, auc\n",
    "# Calculate the false positive rate and true positive rate for different thresholds\n",
    "fpr, tpr, _ = roc_curve(y_test, y_pred_test)\n",
    "\n",
    "# Calculate the AUROC\n",
    "roc_auc = auc(fpr, tpr)\n",
    "\n",
    "# Plot the ROC curve\n",
    "plt.plot(fpr, tpr, label='AUROC = %0.2f' % roc_auc)\n",
    "plt.plot([0, 1], [0, 1], 'k--')\n",
    "plt.xlabel('False Positive Rate')\n",
    "plt.ylabel('True Positive Rate')\n",
    "plt.title('ROC Curve')\n",
    "plt.legend(loc=\"lower right\")\n",
    "plt.show()"
   ]
  },
  {
   "attachments": {},
   "cell_type": "markdown",
   "metadata": {},
   "source": [
    "We can see in the graph that the model is a bad fitting for the data."
   ]
  },
  {
   "attachments": {},
   "cell_type": "markdown",
   "metadata": {},
   "source": [
    "# Fine Tune\n",
    "\n",
    "Hyperparameters can be choosed using Gridsearch.\n",
    "This process took long and results using the new parametes didn't showed any relevant improvement.\n"
   ]
  },
  {
   "cell_type": "code",
   "execution_count": 10,
   "metadata": {},
   "outputs": [],
   "source": [
    "gsc = GridSearchCV(\n",
    "    estimator=XGBRegressor(),\n",
    "    param_grid={\n",
    "        \"learning_rate\": (0.05, 0.10, 0.15),\n",
    "        \"max_depth\": [3, 4, 5, 6, 8]\n",
    "    },\n",
    "    cv=3,\n",
    "    scoring='neg_mean_squared_error',\n",
    "    verbose=0,\n",
    "    n_jobs=-1\n",
    ")\n",
    "\n",
    "grid_result = gsc.fit(X_train, y_train)\n",
    "best_params = grid_result.best_params_"
   ]
  },
  {
   "cell_type": "code",
   "execution_count": 11,
   "metadata": {},
   "outputs": [
    {
     "data": {
      "text/plain": [
       "{'learning_rate': 0.05, 'max_depth': 3}"
      ]
     },
     "execution_count": 11,
     "metadata": {},
     "output_type": "execute_result"
    }
   ],
   "source": [
    "best_params"
   ]
  },
  {
   "attachments": {},
   "cell_type": "markdown",
   "metadata": {},
   "source": [
    "From grid search\n",
    "{'colsample_bytree': 0.3,\n",
    " 'gamma': 0.0,\n",
    " 'learning_rate': 0.1,\n",
    " 'max_depth': 3,\n",
    " 'min_child_weight': 7}"
   ]
  },
  {
   "attachments": {},
   "cell_type": "markdown",
   "metadata": {},
   "source": [
    "# Conclusion\n",
    "\n",
    "XGboost model is fitting poorly the data and predictions are just slightly better than random guessing. One way of improving the model could be adding new features, wich is not easy in our context. Therefore is better to use other models.\n"
   ]
  },
  {
   "attachments": {},
   "cell_type": "markdown",
   "metadata": {},
   "source": []
  }
 ],
 "metadata": {
  "kernelspec": {
   "display_name": "Python 3",
   "language": "python",
   "name": "python3"
  },
  "language_info": {
   "codemirror_mode": {
    "name": "ipython",
    "version": 3
   },
   "file_extension": ".py",
   "mimetype": "text/x-python",
   "name": "python",
   "nbconvert_exporter": "python",
   "pygments_lexer": "ipython3",
   "version": "3.11.2"
  },
  "orig_nbformat": 4
 },
 "nbformat": 4,
 "nbformat_minor": 2
}
