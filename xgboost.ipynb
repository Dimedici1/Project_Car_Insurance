{
 "cells": [
  {
   "cell_type": "code",
   "execution_count": 1,
   "metadata": {},
   "outputs": [],
   "source": [
    "import pandas as pd\n",
    "from data.Functions import *\n",
    "\n",
    "from sklearn.ensemble import RandomForestClassifier\n",
    "from sklearn.model_selection import train_test_split\n",
    "from sklearn.metrics import accuracy_score, recall_score, precision_score, f1_score, roc_auc_score\n",
    "import numpy as np\n",
    "import matplotlib.pyplot as plt\n",
    "import seaborn as sns\n",
    "from sklearn.metrics import confusion_matrix\n",
    "from sklearn.metrics import classification_report\n",
    "from xgboost import XGBRegressor\n",
    "from sklearn.model_selection import GridSearchCV"
   ]
  },
  {
   "attachments": {},
   "cell_type": "markdown",
   "metadata": {},
   "source": [
    "# Loading the dataset"
   ]
  },
  {
   "cell_type": "code",
   "execution_count": 2,
   "metadata": {},
   "outputs": [
    {
     "data": {
      "text/plain": [
       "Index(['Unnamed: 0', 'policy_id', 'policy_tenure', 'age_of_car',\n",
       "       'age_of_policyholder', 'area_cluster', 'population_density', 'make',\n",
       "       'segment', 'model', 'fuel_type', 'max_torque', 'max_power',\n",
       "       'engine_type', 'airbags', 'is_esc', 'is_adjustable_steering', 'is_tpms',\n",
       "       'is_parking_sensors', 'is_parking_camera', 'rear_brakes_type',\n",
       "       'displacement', 'cylinder', 'transmission_type', 'gear_box',\n",
       "       'steering_type', 'turning_radius', 'length', 'width', 'height',\n",
       "       'gross_weight', 'is_front_fog_lights', 'is_rear_window_wiper',\n",
       "       'is_rear_window_washer', 'is_rear_window_defogger', 'is_brake_assist',\n",
       "       'is_power_door_locks', 'is_central_locking', 'is_power_steering',\n",
       "       'is_driver_seat_height_adjustable', 'is_day_night_rear_view_mirror',\n",
       "       'is_ecw', 'is_speed_alert', 'ncap_rating', 'is_claim'],\n",
       "      dtype='object')"
      ]
     },
     "execution_count": 2,
     "metadata": {},
     "output_type": "execute_result"
    }
   ],
   "source": [
    "data = pd.read_csv('data/ml_gw_car_insurance.csv')\n",
    "data.columns"
   ]
  },
  {
   "cell_type": "code",
   "execution_count": 3,
   "metadata": {},
   "outputs": [],
   "source": [
    "dataset = data_processing(data)"
   ]
  },
  {
   "attachments": {},
   "cell_type": "markdown",
   "metadata": {},
   "source": [
    "# Functions\n",
    "\n",
    "One function will directly split the dataset into train and test and output the model results with the defined parameters for XGBoost.\n",
    "The results will be a prediciton from 0 to 1.\n",
    "\n",
    "The second function elaborates a table with different methods to choose the optimal decision threshold (to distinguish positive and negative outcomes)\n",
    "- Default: Use the default 0,5 threshold;\n",
    "- Precision-Recall trade-off: Optimize PR trade-off (using F1 Score);\n",
    "- Balanced Accuracy: Maximize Sensitivity and Specificity average;\n",
    "- Cohen's Kappa: Maximize a statistic that measures inter-annotator agreement. (Similarity between predicitons and real values)."
   ]
  },
  {
   "cell_type": "code",
   "execution_count": 4,
   "metadata": {},
   "outputs": [],
   "source": [
    "#Functions\n",
    "\n",
    "import xgboost as xgb\n",
    "from sklearn.metrics import accuracy_score, recall_score, precision_score, precision_recall_curve, auc, confusion_matrix, cohen_kappa_score\n",
    "\n",
    "\n",
    "def xgb_classifier(features, target):\n",
    "    # split X and y into training and testing sets\n",
    "    X_train, X_test, y_train, y_test = train_test_split(X, y, test_size=0.2,random_state=16,shuffle=False)\n",
    "\n",
    "    # Convert data into DMatrix format\n",
    "    dtrain = xgb.DMatrix(X_train, label=y_train, enable_categorical = True)\n",
    "    dtest = xgb.DMatrix(X_test, enable_categorical = True)\n",
    "\n",
    "    # Set parameters for the XGBoost model\n",
    "    param = {\n",
    "        'max_depth': 3,\n",
    "        'eta': 0.3,\n",
    "        'objective': 'binary:logistic',\n",
    "        'seed': 16\n",
    "    }\n",
    "\n",
    "    # Train the model\n",
    "    num_round = 10\n",
    "    bst = xgb.train(param, dtrain, num_round)\n",
    "\n",
    "    # Make preictions on the train set\n",
    "    y_pred_train = bst.predict(dtrain)\n",
    "    # Make predictions on the test set\n",
    "    y_pred_test = bst.predict(dtest)\n",
    "    \n",
    "    return y_pred_train, y_pred_test, bst.get_score(), X_train, X_test, y_train, y_test  \n",
    "\n",
    "\n",
    "def evaluate_thresholds(y_pred_train, y_train, y_pred_test, y_test, metrics = \"test\"):\n",
    "\n",
    "    if metrics == \"test\":\n",
    "        # Default threshold (0.5)\n",
    "        default_threshold = 0.5\n",
    "        default_y_pred_binary = (y_pred_test >= default_threshold).astype(int)\n",
    "        default_accuracy = accuracy_score(y_test, default_y_pred_binary)\n",
    "        default_recall = recall_score(y_test, default_y_pred_binary)\n",
    "        default_precision = precision_score(y_test, default_y_pred_binary)\n",
    "        default_roc_auc = roc_auc_score(y_test, default_y_pred_binary)\n",
    "        default_f1 = f1_score(y_test, default_y_pred_binary, pos_label=1)\n",
    "        \n",
    "        # Define thresholds\n",
    "    \n",
    "\n",
    "        # Precision-Recall trade-off\n",
    "        precision, recall, thresholds = precision_recall_curve(y_train, y_pred_train)\n",
    "        f1_scores = 2 * precision * recall / (precision + recall)\n",
    "        best_index = pd.Series(f1_scores).idxmax()\n",
    "        pr_threshold = thresholds[best_index]\n",
    "        pr_y_pred_binary = (y_pred_test >= pr_threshold).astype(int)\n",
    "        pr_accuracy = accuracy_score(y_test, pr_y_pred_binary)\n",
    "        pr_recall = recall_score(y_test, pr_y_pred_binary)\n",
    "        pr_precision = precision_score(y_test, pr_y_pred_binary)\n",
    "        pr_roc_auc = roc_auc_score(y_test, pr_y_pred_binary)\n",
    "        pr_f1 = f1_score(y_test, pr_y_pred_binary, pos_label=1)\n",
    "        \n",
    "        thresholds = np.linspace(0, 1, 100)\n",
    "\n",
    "        # Balanced Accuracy\n",
    "        cms = [confusion_matrix(y_train, (y_pred_train >= t).astype(int)) for t in thresholds]\n",
    "        sensitivity = [cm[1, 1] / (cm[1, 1] + cm[1, 0]) for cm in cms]\n",
    "        specificity = [cm[0, 0] / (cm[0, 0] + cm[0, 1]) for cm in cms]\n",
    "        balanced_accuracy = [(s + sp) / 2 for s, sp in zip(sensitivity, specificity)]\n",
    "        ba_threshold = thresholds[np.argmax(balanced_accuracy)]\n",
    "        ba_y_pred_binary = (y_pred_test >= ba_threshold).astype(int)\n",
    "        ba_accuracy = accuracy_score(y_test, ba_y_pred_binary)\n",
    "        ba_recall = recall_score(y_test, ba_y_pred_binary)\n",
    "        ba_precision = precision_score(y_test, ba_y_pred_binary)\n",
    "        ba_roc_auc = roc_auc_score(y_test, ba_y_pred_binary)\n",
    "        ba_f1 = f1_score(y_test, ba_y_pred_binary, pos_label=1)\n",
    "        \n",
    "        # Cohen's Kappa\n",
    "        kappas = [cohen_kappa_score(y_train, (y_pred_train >= t).astype(int)) for t in thresholds]\n",
    "        kappa_threshold = thresholds[np.argmax(kappas)]\n",
    "        kappa_y_pred_binary = (y_pred_test >= kappa_threshold).astype(int)\n",
    "        kappa_kappa = cohen_kappa_score(y_test, kappa_y_pred_binary)\n",
    "        kappa_accuracy = accuracy_score(y_test, kappa_y_pred_binary)\n",
    "        kappa_recall = recall_score(y_test, kappa_y_pred_binary)\n",
    "        kappa_precision = precision_score(y_test, kappa_y_pred_binary)\n",
    "        kappa_roc_auc = roc_auc_score(y_test, kappa_y_pred_binary)\n",
    "        kappa_f1 = f1_score(y_test, kappa_y_pred_binary, pos_label=1)\n",
    "\n",
    "\n",
    "    else:\n",
    "        # Default threshold (0.5)\n",
    "        default_threshold = 0.5\n",
    "        default_y_pred_binary = (y_pred_train >= default_threshold).astype(int)\n",
    "        default_accuracy = accuracy_score(y_train, default_y_pred_binary)\n",
    "        default_recall = recall_score(y_train, default_y_pred_binary)\n",
    "        default_precision = precision_score(y_train, default_y_pred_binary)\n",
    "        default_roc_auc = roc_auc_score(y_train, default_y_pred_binary)\n",
    "        default_f1 = f1_score(y_train, default_y_pred_binary, pos_label=1)\n",
    "        \n",
    "        # Define thresholds\n",
    "    \n",
    "\n",
    "        # Precision-Recall trade-off\n",
    "        precision, recall, thresholds = precision_recall_curve(y_train, y_pred_train)\n",
    "        f1_scores = 2 * precision * recall / (precision + recall)\n",
    "        best_index = pd.Series(f1_scores).idxmax()\n",
    "        pr_threshold = thresholds[best_index]\n",
    "        pr_y_pred_binary = (y_pred_train >= pr_threshold).astype(int)\n",
    "        pr_accuracy = accuracy_score(y_train, pr_y_pred_binary)\n",
    "        pr_recall = recall_score(y_train, pr_y_pred_binary)\n",
    "        pr_precision = precision_score(y_train, pr_y_pred_binary)\n",
    "        pr_roc_auc = roc_auc_score(y_train, pr_y_pred_binary)\n",
    "        pr_f1 = f1_score(y_train, pr_y_pred_binary, pos_label=1)\n",
    "        \n",
    "        thresholds = np.linspace(0, 1, 100)\n",
    "\n",
    "        # Balanced Accuracy\n",
    "        cms = [confusion_matrix(y_train, (y_pred_train >= t).astype(int)) for t in thresholds]\n",
    "        sensitivity = [cm[1, 1] / (cm[1, 1] + cm[1, 0]) for cm in cms]\n",
    "        specificity = [cm[0, 0] / (cm[0, 0] + cm[0, 1]) for cm in cms]\n",
    "        balanced_accuracy = [(s + sp) / 2 for s, sp in zip(sensitivity, specificity)]\n",
    "        ba_threshold = thresholds[np.argmax(balanced_accuracy)]\n",
    "        ba_y_pred_binary = (y_pred_train >= ba_threshold).astype(int)\n",
    "        ba_accuracy = accuracy_score(y_train, ba_y_pred_binary)\n",
    "        ba_recall = recall_score(y_train, ba_y_pred_binary)\n",
    "        ba_precision = precision_score(y_train, ba_y_pred_binary)\n",
    "        ba_roc_auc = roc_auc_score(y_train, ba_y_pred_binary)\n",
    "        ba_f1 = f1_score(y_train, ba_y_pred_binary, pos_label=1)\n",
    "        \n",
    "        # Cohen's Kappa\n",
    "        kappas = [cohen_kappa_score(y_train, (y_pred_train >= t).astype(int)) for t in thresholds]\n",
    "        kappa_threshold = thresholds[np.argmax(kappas)]\n",
    "        kappa_y_pred_binary = (y_pred_train >= kappa_threshold).astype(int)\n",
    "        kappa_kappa = cohen_kappa_score(y_train, kappa_y_pred_binary)\n",
    "        kappa_accuracy = accuracy_score(y_train, kappa_y_pred_binary)\n",
    "        kappa_recall = recall_score(y_train, kappa_y_pred_binary)\n",
    "        kappa_precision = precision_score(y_train, kappa_y_pred_binary)\n",
    "        kappa_roc_auc = roc_auc_score(y_train, kappa_y_pred_binary)\n",
    "        kappa_f1 = f1_score(y_train, kappa_y_pred_binary, pos_label=1)\n",
    "\n",
    "    # Create output dataframe\n",
    "    data = {\n",
    "        'Analysis': ['Default', 'Precision-Recall trade-off', 'Balanced Accuracy', \"Cohen's Kappa\"],\n",
    "        'Threshold': [round(default_threshold, 2), round(pr_threshold, 2), round(ba_threshold, 2), round(kappa_threshold, 2)],\n",
    "        'Accuracy': [round(default_accuracy, 2), round(pr_accuracy, 2), round(ba_accuracy, 2), round(kappa_accuracy, 2)], \n",
    "        'Recall': [round(default_recall, 2), round(pr_recall, 2), round(ba_recall, 2), round(kappa_recall, 2)], \n",
    "        'Precision': [round(default_precision, 2), round(pr_precision, 2), round(ba_precision, 2), round(kappa_precision, 2)],\n",
    "        'f1_score': [round(default_f1,2), round(pr_f1, 2), round(ba_f1, 2), round(kappa_f1, 2)],\n",
    "        'roc_auc': [round(default_roc_auc,2), round(pr_roc_auc, 2), round(ba_roc_auc, 2), round(kappa_roc_auc, 2)],\n",
    "\n",
    "        #'Precision@K': [round(default_precision_at_k, 2), round(pr_precision_at_k, 2), round(ba_precision_at_k, 2), round(kappa_precision_at_k, 2), round(limit_to_k_precision_at_k, 2)]\n",
    "    }\n",
    "    \n",
    "    df = pd.DataFrame(data)\n",
    "    return df\n",
    "\n"
   ]
  },
  {
   "attachments": {},
   "cell_type": "markdown",
   "metadata": {},
   "source": [
    "# XGBoost Model\n",
    "\n",
    "Using previous functions to elaborate the model.\n",
    "\n",
    "Feature importance graphs shows the features selected by the model and their impact. The features are chosen based on the train set only.\n"
   ]
  },
  {
   "cell_type": "code",
   "execution_count": 5,
   "metadata": {},
   "outputs": [],
   "source": [
    "X = dataset.drop(['is_claim'],axis=1) # Features\n",
    "y = dataset.is_claim # Target variable\n",
    "features=X.columns\n",
    "y_pred_train, y_pred_test, model_score, X_train, X_test, y_train, y_test = xgb_classifier(X,y)"
   ]
  },
  {
   "cell_type": "code",
   "execution_count": 6,
   "metadata": {},
   "outputs": [
    {
     "data": {
      "image/png": "[encoded data removed]",
      "text/plain": [
       "<Figure size 640x480 with 1 Axes>"
      ]
     },
     "metadata": {},
     "output_type": "display_data"
    }
   ],
   "source": [
    "from xgboost import plot_importance\n",
    "\n",
    "# Plot the feature importance scores\n",
    "plot_importance(model_score)\n",
    "plt.show()"
   ]
  },
  {
   "cell_type": "code",
   "execution_count": 7,
   "metadata": {},
   "outputs": [
    {
     "name": "stderr",
     "output_type": "stream",
     "text": [
      "/usr/local/lib/python3.11/site-packages/sklearn/metrics/_classification.py:1344: UndefinedMetricWarning: Precision is ill-defined and being set to 0.0 due to no predicted samples. Use `zero_division` parameter to control this behavior.\n",
      "  _warn_prf(average, modifier, msg_start, len(result))\n"
     ]
    },
    {
     "data": {
      "text/html": [
       "<div>\n",
       "<style scoped>\n",
       "    .dataframe tbody tr th:only-of-type {\n",
       "        vertical-align: middle;\n",
       "    }\n",
       "\n",
       "    .dataframe tbody tr th {\n",
       "        vertical-align: top;\n",
       "    }\n",
       "\n",
       "    .dataframe thead th {\n",
       "        text-align: right;\n",
       "    }\n",
       "</style>\n",
       "<table border=\"1\" class=\"dataframe\">\n",
       "  <thead>\n",
       "    <tr style=\"text-align: right;\">\n",
       "      <th></th>\n",
       "      <th>Analysis</th>\n",
       "      <th>Threshold</th>\n",
       "      <th>Accuracy</th>\n",
       "      <th>Recall</th>\n",
       "      <th>Precision</th>\n",
       "      <th>f1_score</th>\n",
       "      <th>roc_auc</th>\n",
       "    </tr>\n",
       "  </thead>\n",
       "  <tbody>\n",
       "    <tr>\n",
       "      <th>0</th>\n",
       "      <td>Default</td>\n",
       "      <td>0.50</td>\n",
       "      <td>0.94</td>\n",
       "      <td>0.00</td>\n",
       "      <td>0.00</td>\n",
       "      <td>0.00</td>\n",
       "      <td>0.50</td>\n",
       "    </tr>\n",
       "    <tr>\n",
       "      <th>1</th>\n",
       "      <td>Precision-Recall trade-off</td>\n",
       "      <td>0.10</td>\n",
       "      <td>0.77</td>\n",
       "      <td>0.40</td>\n",
       "      <td>0.12</td>\n",
       "      <td>0.18</td>\n",
       "      <td>0.60</td>\n",
       "    </tr>\n",
       "    <tr>\n",
       "      <th>2</th>\n",
       "      <td>Balanced Accuracy</td>\n",
       "      <td>0.09</td>\n",
       "      <td>0.63</td>\n",
       "      <td>0.62</td>\n",
       "      <td>0.10</td>\n",
       "      <td>0.17</td>\n",
       "      <td>0.62</td>\n",
       "    </tr>\n",
       "    <tr>\n",
       "      <th>3</th>\n",
       "      <td>Cohen's Kappa</td>\n",
       "      <td>0.10</td>\n",
       "      <td>0.76</td>\n",
       "      <td>0.42</td>\n",
       "      <td>0.12</td>\n",
       "      <td>0.18</td>\n",
       "      <td>0.60</td>\n",
       "    </tr>\n",
       "  </tbody>\n",
       "</table>\n",
       "</div>"
      ],
      "text/plain": [
       "                     Analysis  Threshold  Accuracy  Recall  Precision   \n",
       "0                     Default       0.50      0.94    0.00       0.00  \\\n",
       "1  Precision-Recall trade-off       0.10      0.77    0.40       0.12   \n",
       "2           Balanced Accuracy       0.09      0.63    0.62       0.10   \n",
       "3               Cohen's Kappa       0.10      0.76    0.42       0.12   \n",
       "\n",
       "   f1_score  roc_auc  \n",
       "0      0.00     0.50  \n",
       "1      0.18     0.60  \n",
       "2      0.17     0.62  \n",
       "3      0.18     0.60  "
      ]
     },
     "execution_count": 7,
     "metadata": {},
     "output_type": "execute_result"
    }
   ],
   "source": [
    "evaluate_thresholds(y_pred_train,y_train,y_pred_test,y_test,metrics=\"train\")"
   ]
  },
  {
   "cell_type": "code",
   "execution_count": 8,
   "metadata": {},
   "outputs": [
    {
     "name": "stderr",
     "output_type": "stream",
     "text": [
      "/usr/local/lib/python3.11/site-packages/sklearn/metrics/_classification.py:1344: UndefinedMetricWarning: Precision is ill-defined and being set to 0.0 due to no predicted samples. Use `zero_division` parameter to control this behavior.\n",
      "  _warn_prf(average, modifier, msg_start, len(result))\n"
     ]
    },
    {
     "ename": "NameError",
     "evalue": "name 'precision_at_k' is not defined",
     "output_type": "error",
     "traceback": [
      "\u001b[0;31m---------------------------------------------------------------------------\u001b[0m",
      "\u001b[0;31mNameError\u001b[0m                                 Traceback (most recent call last)",
      "Cell \u001b[0;32mIn[8], line 1\u001b[0m\n\u001b[0;32m----> 1\u001b[0m evaluate_thresholds(y_pred_train,y_train,y_pred_test,y_test,metrics\u001b[39m=\u001b[39;49m\u001b[39m\"\u001b[39;49m\u001b[39mtest\u001b[39;49m\u001b[39m\"\u001b[39;49m)\n",
      "Cell \u001b[0;32mIn[4], line 85\u001b[0m, in \u001b[0;36mevaluate_thresholds\u001b[0;34m(y_pred_train, y_train, y_pred_test, y_test, metrics)\u001b[0m\n\u001b[1;32m     83\u001b[0m kappa_recall \u001b[39m=\u001b[39m recall_score(y_test, kappa_y_pred_binary)\n\u001b[1;32m     84\u001b[0m kappa_precision \u001b[39m=\u001b[39m precision_score(y_test, kappa_y_pred_binary)\n\u001b[0;32m---> 85\u001b[0m kappa_precision_at_k \u001b[39m=\u001b[39m precision_at_k(y_test, kappa_y_pred_binary, k)\n\u001b[1;32m     86\u001b[0m kappa_roc_auc \u001b[39m=\u001b[39m roc_auc_score(y_test, kappa_y_pred_binary)\n\u001b[1;32m     87\u001b[0m kappa_f1 \u001b[39m=\u001b[39m f1_score(y_test, kappa_y_pred_binary, pos_label\u001b[39m=\u001b[39m\u001b[39m1\u001b[39m)\n",
      "\u001b[0;31mNameError\u001b[0m: name 'precision_at_k' is not defined"
     ]
    }
   ],
   "source": [
    "evaluate_thresholds(y_pred_train,y_train,y_pred_test,y_test,metrics=\"test\")"
   ]
  },
  {
   "attachments": {},
   "cell_type": "markdown",
   "metadata": {},
   "source": [
    "Results aren't very good when calculated on the train set and deteriorate event more when calculated on the test set. However, based on the business problem, metrics that are relevant for the analysis and representation of risk that the insurance company could take (Recall and Roc-Auc), the best model would be the one built using balanced accuracy, wich has the highest recall and the highest roc-auc. Still the"
   ]
  },
  {
   "cell_type": "code",
   "execution_count": null,
   "metadata": {},
   "outputs": [
    {
     "data": {
      "image/png": "[encoded data removed]",
      "text/plain": [
       "<Figure size 640x480 with 1 Axes>"
      ]
     },
     "metadata": {},
     "output_type": "display_data"
    }
   ],
   "source": [
    "from sklearn.metrics import roc_curve, auc\n",
    "# Calculate the false positive rate and true positive rate for different thresholds\n",
    "fpr, tpr, _ = roc_curve(y_test, y_pred_test)\n",
    "\n",
    "# Calculate the AUROC\n",
    "roc_auc = auc(fpr, tpr)\n",
    "\n",
    "# Plot the ROC curve\n",
    "plt.plot(fpr, tpr, label='AUROC = %0.2f' % roc_auc)\n",
    "plt.plot([0, 1], [0, 1], 'k--')\n",
    "plt.xlabel('False Positive Rate')\n",
    "plt.ylabel('True Positive Rate')\n",
    "plt.title('ROC Curve')\n",
    "plt.legend(loc=\"lower right\")\n",
    "plt.show()"
   ]
  },
  {
   "attachments": {},
   "cell_type": "markdown",
   "metadata": {},
   "source": [
    "We can see in the graph that the model is a bad fitting for the data."
   ]
  },
  {
   "attachments": {},
   "cell_type": "markdown",
   "metadata": {},
   "source": [
    "# Fine Tune\n",
    "\n",
    "Hyperparameters can be choosed using Gridsearch.\n",
    "This process took long and results using the new parametes didn't showed any relevant improvement.\n"
   ]
  },
  {
   "cell_type": "code",
   "execution_count": 14,
   "metadata": {},
   "outputs": [
    {
     "ename": "KeyboardInterrupt",
     "evalue": "",
     "output_type": "error",
     "traceback": [
      "\u001b[0;31m---------------------------------------------------------------------------\u001b[0m",
      "\u001b[0;31mKeyboardInterrupt\u001b[0m                         Traceback (most recent call last)",
      "Cell \u001b[0;32mIn[14], line 16\u001b[0m\n\u001b[1;32m      1\u001b[0m gsc \u001b[39m=\u001b[39m GridSearchCV(\n\u001b[1;32m      2\u001b[0m     estimator\u001b[39m=\u001b[39mXGBRegressor(),\n\u001b[1;32m      3\u001b[0m     param_grid\u001b[39m=\u001b[39m{\n\u001b[0;32m   (...)\u001b[0m\n\u001b[1;32m     13\u001b[0m     n_jobs\u001b[39m=\u001b[39m\u001b[39m-\u001b[39m\u001b[39m1\u001b[39m\n\u001b[1;32m     14\u001b[0m )\n\u001b[0;32m---> 16\u001b[0m grid_result \u001b[39m=\u001b[39m gsc\u001b[39m.\u001b[39;49mfit(X_train, y_train)\n\u001b[1;32m     17\u001b[0m best_params \u001b[39m=\u001b[39m grid_result\u001b[39m.\u001b[39mbest_params_\n",
      "File \u001b[0;32m/usr/local/lib/python3.11/site-packages/sklearn/model_selection/_search.py:874\u001b[0m, in \u001b[0;36mBaseSearchCV.fit\u001b[0;34m(self, X, y, groups, **fit_params)\u001b[0m\n\u001b[1;32m    868\u001b[0m     results \u001b[39m=\u001b[39m \u001b[39mself\u001b[39m\u001b[39m.\u001b[39m_format_results(\n\u001b[1;32m    869\u001b[0m         all_candidate_params, n_splits, all_out, all_more_results\n\u001b[1;32m    870\u001b[0m     )\n\u001b[1;32m    872\u001b[0m     \u001b[39mreturn\u001b[39;00m results\n\u001b[0;32m--> 874\u001b[0m \u001b[39mself\u001b[39;49m\u001b[39m.\u001b[39;49m_run_search(evaluate_candidates)\n\u001b[1;32m    876\u001b[0m \u001b[39m# multimetric is determined here because in the case of a callable\u001b[39;00m\n\u001b[1;32m    877\u001b[0m \u001b[39m# self.scoring the return type is only known after calling\u001b[39;00m\n\u001b[1;32m    878\u001b[0m first_test_score \u001b[39m=\u001b[39m all_out[\u001b[39m0\u001b[39m][\u001b[39m\"\u001b[39m\u001b[39mtest_scores\u001b[39m\u001b[39m\"\u001b[39m]\n",
      "File \u001b[0;32m/usr/local/lib/python3.11/site-packages/sklearn/model_selection/_search.py:1388\u001b[0m, in \u001b[0;36mGridSearchCV._run_search\u001b[0;34m(self, evaluate_candidates)\u001b[0m\n\u001b[1;32m   1386\u001b[0m \u001b[39mdef\u001b[39;00m \u001b[39m_run_search\u001b[39m(\u001b[39mself\u001b[39m, evaluate_candidates):\n\u001b[1;32m   1387\u001b[0m \u001b[39m    \u001b[39m\u001b[39m\"\"\"Search all candidates in param_grid\"\"\"\u001b[39;00m\n\u001b[0;32m-> 1388\u001b[0m     evaluate_candidates(ParameterGrid(\u001b[39mself\u001b[39;49m\u001b[39m.\u001b[39;49mparam_grid))\n",
      "File \u001b[0;32m/usr/local/lib/python3.11/site-packages/sklearn/model_selection/_search.py:821\u001b[0m, in \u001b[0;36mBaseSearchCV.fit.<locals>.evaluate_candidates\u001b[0;34m(candidate_params, cv, more_results)\u001b[0m\n\u001b[1;32m    813\u001b[0m \u001b[39mif\u001b[39;00m \u001b[39mself\u001b[39m\u001b[39m.\u001b[39mverbose \u001b[39m>\u001b[39m \u001b[39m0\u001b[39m:\n\u001b[1;32m    814\u001b[0m     \u001b[39mprint\u001b[39m(\n\u001b[1;32m    815\u001b[0m         \u001b[39m\"\u001b[39m\u001b[39mFitting \u001b[39m\u001b[39m{0}\u001b[39;00m\u001b[39m folds for each of \u001b[39m\u001b[39m{1}\u001b[39;00m\u001b[39m candidates,\u001b[39m\u001b[39m\"\u001b[39m\n\u001b[1;32m    816\u001b[0m         \u001b[39m\"\u001b[39m\u001b[39m totalling \u001b[39m\u001b[39m{2}\u001b[39;00m\u001b[39m fits\u001b[39m\u001b[39m\"\u001b[39m\u001b[39m.\u001b[39mformat(\n\u001b[1;32m    817\u001b[0m             n_splits, n_candidates, n_candidates \u001b[39m*\u001b[39m n_splits\n\u001b[1;32m    818\u001b[0m         )\n\u001b[1;32m    819\u001b[0m     )\n\u001b[0;32m--> 821\u001b[0m out \u001b[39m=\u001b[39m parallel(\n\u001b[1;32m    822\u001b[0m     delayed(_fit_and_score)(\n\u001b[1;32m    823\u001b[0m         clone(base_estimator),\n\u001b[1;32m    824\u001b[0m         X,\n\u001b[1;32m    825\u001b[0m         y,\n\u001b[1;32m    826\u001b[0m         train\u001b[39m=\u001b[39;49mtrain,\n\u001b[1;32m    827\u001b[0m         test\u001b[39m=\u001b[39;49mtest,\n\u001b[1;32m    828\u001b[0m         parameters\u001b[39m=\u001b[39;49mparameters,\n\u001b[1;32m    829\u001b[0m         split_progress\u001b[39m=\u001b[39;49m(split_idx, n_splits),\n\u001b[1;32m    830\u001b[0m         candidate_progress\u001b[39m=\u001b[39;49m(cand_idx, n_candidates),\n\u001b[1;32m    831\u001b[0m         \u001b[39m*\u001b[39;49m\u001b[39m*\u001b[39;49mfit_and_score_kwargs,\n\u001b[1;32m    832\u001b[0m     )\n\u001b[1;32m    833\u001b[0m     \u001b[39mfor\u001b[39;49;00m (cand_idx, parameters), (split_idx, (train, test)) \u001b[39min\u001b[39;49;00m product(\n\u001b[1;32m    834\u001b[0m         \u001b[39menumerate\u001b[39;49m(candidate_params), \u001b[39menumerate\u001b[39;49m(cv\u001b[39m.\u001b[39;49msplit(X, y, groups))\n\u001b[1;32m    835\u001b[0m     )\n\u001b[1;32m    836\u001b[0m )\n\u001b[1;32m    838\u001b[0m \u001b[39mif\u001b[39;00m \u001b[39mlen\u001b[39m(out) \u001b[39m<\u001b[39m \u001b[39m1\u001b[39m:\n\u001b[1;32m    839\u001b[0m     \u001b[39mraise\u001b[39;00m \u001b[39mValueError\u001b[39;00m(\n\u001b[1;32m    840\u001b[0m         \u001b[39m\"\u001b[39m\u001b[39mNo fits were performed. \u001b[39m\u001b[39m\"\u001b[39m\n\u001b[1;32m    841\u001b[0m         \u001b[39m\"\u001b[39m\u001b[39mWas the CV iterator empty? \u001b[39m\u001b[39m\"\u001b[39m\n\u001b[1;32m    842\u001b[0m         \u001b[39m\"\u001b[39m\u001b[39mWere there no candidates?\u001b[39m\u001b[39m\"\u001b[39m\n\u001b[1;32m    843\u001b[0m     )\n",
      "File \u001b[0;32m/usr/local/lib/python3.11/site-packages/sklearn/utils/parallel.py:63\u001b[0m, in \u001b[0;36mParallel.__call__\u001b[0;34m(self, iterable)\u001b[0m\n\u001b[1;32m     58\u001b[0m config \u001b[39m=\u001b[39m get_config()\n\u001b[1;32m     59\u001b[0m iterable_with_config \u001b[39m=\u001b[39m (\n\u001b[1;32m     60\u001b[0m     (_with_config(delayed_func, config), args, kwargs)\n\u001b[1;32m     61\u001b[0m     \u001b[39mfor\u001b[39;00m delayed_func, args, kwargs \u001b[39min\u001b[39;00m iterable\n\u001b[1;32m     62\u001b[0m )\n\u001b[0;32m---> 63\u001b[0m \u001b[39mreturn\u001b[39;00m \u001b[39msuper\u001b[39;49m()\u001b[39m.\u001b[39;49m\u001b[39m__call__\u001b[39;49m(iterable_with_config)\n",
      "File \u001b[0;32m~/Library/Python/3.11/lib/python/site-packages/joblib/parallel.py:1098\u001b[0m, in \u001b[0;36mParallel.__call__\u001b[0;34m(self, iterable)\u001b[0m\n\u001b[1;32m   1095\u001b[0m     \u001b[39mself\u001b[39m\u001b[39m.\u001b[39m_iterating \u001b[39m=\u001b[39m \u001b[39mFalse\u001b[39;00m\n\u001b[1;32m   1097\u001b[0m \u001b[39mwith\u001b[39;00m \u001b[39mself\u001b[39m\u001b[39m.\u001b[39m_backend\u001b[39m.\u001b[39mretrieval_context():\n\u001b[0;32m-> 1098\u001b[0m     \u001b[39mself\u001b[39;49m\u001b[39m.\u001b[39;49mretrieve()\n\u001b[1;32m   1099\u001b[0m \u001b[39m# Make sure that we get a last message telling us we are done\u001b[39;00m\n\u001b[1;32m   1100\u001b[0m elapsed_time \u001b[39m=\u001b[39m time\u001b[39m.\u001b[39mtime() \u001b[39m-\u001b[39m \u001b[39mself\u001b[39m\u001b[39m.\u001b[39m_start_time\n",
      "File \u001b[0;32m~/Library/Python/3.11/lib/python/site-packages/joblib/parallel.py:975\u001b[0m, in \u001b[0;36mParallel.retrieve\u001b[0;34m(self)\u001b[0m\n\u001b[1;32m    973\u001b[0m \u001b[39mtry\u001b[39;00m:\n\u001b[1;32m    974\u001b[0m     \u001b[39mif\u001b[39;00m \u001b[39mgetattr\u001b[39m(\u001b[39mself\u001b[39m\u001b[39m.\u001b[39m_backend, \u001b[39m'\u001b[39m\u001b[39msupports_timeout\u001b[39m\u001b[39m'\u001b[39m, \u001b[39mFalse\u001b[39;00m):\n\u001b[0;32m--> 975\u001b[0m         \u001b[39mself\u001b[39m\u001b[39m.\u001b[39m_output\u001b[39m.\u001b[39mextend(job\u001b[39m.\u001b[39;49mget(timeout\u001b[39m=\u001b[39;49m\u001b[39mself\u001b[39;49m\u001b[39m.\u001b[39;49mtimeout))\n\u001b[1;32m    976\u001b[0m     \u001b[39melse\u001b[39;00m:\n\u001b[1;32m    977\u001b[0m         \u001b[39mself\u001b[39m\u001b[39m.\u001b[39m_output\u001b[39m.\u001b[39mextend(job\u001b[39m.\u001b[39mget())\n",
      "File \u001b[0;32m~/Library/Python/3.11/lib/python/site-packages/joblib/_parallel_backends.py:567\u001b[0m, in \u001b[0;36mLokyBackend.wrap_future_result\u001b[0;34m(future, timeout)\u001b[0m\n\u001b[1;32m    564\u001b[0m \u001b[39m\u001b[39m\u001b[39m\"\"\"Wrapper for Future.result to implement the same behaviour as\u001b[39;00m\n\u001b[1;32m    565\u001b[0m \u001b[39mAsyncResults.get from multiprocessing.\"\"\"\u001b[39;00m\n\u001b[1;32m    566\u001b[0m \u001b[39mtry\u001b[39;00m:\n\u001b[0;32m--> 567\u001b[0m     \u001b[39mreturn\u001b[39;00m future\u001b[39m.\u001b[39;49mresult(timeout\u001b[39m=\u001b[39;49mtimeout)\n\u001b[1;32m    568\u001b[0m \u001b[39mexcept\u001b[39;00m CfTimeoutError \u001b[39mas\u001b[39;00m e:\n\u001b[1;32m    569\u001b[0m     \u001b[39mraise\u001b[39;00m \u001b[39mTimeoutError\u001b[39;00m \u001b[39mfrom\u001b[39;00m \u001b[39me\u001b[39;00m\n",
      "File \u001b[0;32m/usr/local/Cellar/python@3.11/3.11.2_1/Frameworks/Python.framework/Versions/3.11/lib/python3.11/concurrent/futures/_base.py:451\u001b[0m, in \u001b[0;36mFuture.result\u001b[0;34m(self, timeout)\u001b[0m\n\u001b[1;32m    448\u001b[0m \u001b[39melif\u001b[39;00m \u001b[39mself\u001b[39m\u001b[39m.\u001b[39m_state \u001b[39m==\u001b[39m FINISHED:\n\u001b[1;32m    449\u001b[0m     \u001b[39mreturn\u001b[39;00m \u001b[39mself\u001b[39m\u001b[39m.\u001b[39m__get_result()\n\u001b[0;32m--> 451\u001b[0m \u001b[39mself\u001b[39;49m\u001b[39m.\u001b[39;49m_condition\u001b[39m.\u001b[39;49mwait(timeout)\n\u001b[1;32m    453\u001b[0m \u001b[39mif\u001b[39;00m \u001b[39mself\u001b[39m\u001b[39m.\u001b[39m_state \u001b[39min\u001b[39;00m [CANCELLED, CANCELLED_AND_NOTIFIED]:\n\u001b[1;32m    454\u001b[0m     \u001b[39mraise\u001b[39;00m CancelledError()\n",
      "File \u001b[0;32m/usr/local/Cellar/python@3.11/3.11.2_1/Frameworks/Python.framework/Versions/3.11/lib/python3.11/threading.py:320\u001b[0m, in \u001b[0;36mCondition.wait\u001b[0;34m(self, timeout)\u001b[0m\n\u001b[1;32m    318\u001b[0m \u001b[39mtry\u001b[39;00m:    \u001b[39m# restore state no matter what (e.g., KeyboardInterrupt)\u001b[39;00m\n\u001b[1;32m    319\u001b[0m     \u001b[39mif\u001b[39;00m timeout \u001b[39mis\u001b[39;00m \u001b[39mNone\u001b[39;00m:\n\u001b[0;32m--> 320\u001b[0m         waiter\u001b[39m.\u001b[39;49macquire()\n\u001b[1;32m    321\u001b[0m         gotit \u001b[39m=\u001b[39m \u001b[39mTrue\u001b[39;00m\n\u001b[1;32m    322\u001b[0m     \u001b[39melse\u001b[39;00m:\n",
      "\u001b[0;31mKeyboardInterrupt\u001b[0m: "
     ]
    }
   ],
   "source": [
    "gsc = GridSearchCV(\n",
    "    estimator=XGBRegressor(),\n",
    "    param_grid={\n",
    "        \"learning_rate\": (0.05, 0.10, 0.15),\n",
    "        \"max_depth\": [3, 4, 5, 6, 8],\n",
    "        \"min_child_weight\": [1, 3, 5, 7],\n",
    "        \"gamma\": [0.0, 0.1, 0.2],\n",
    "        \"colsample_bytree\": [0.3, 0.4]\n",
    "    },\n",
    "    cv=3,\n",
    "    scoring='neg_mean_squared_error',\n",
    "    verbose=0,\n",
    "    n_jobs=-1\n",
    ")\n",
    "\n",
    "grid_result = gsc.fit(X_train, y_train)\n",
    "best_params = grid_result.best_params_"
   ]
  },
  {
   "cell_type": "code",
   "execution_count": 44,
   "metadata": {},
   "outputs": [
    {
     "data": {
      "text/plain": [
       "{'colsample_bytree': 0.3,\n",
       " 'gamma': 0.0,\n",
       " 'learning_rate': 0.1,\n",
       " 'max_depth': 3,\n",
       " 'min_child_weight': 7}"
      ]
     },
     "execution_count": 44,
     "metadata": {},
     "output_type": "execute_result"
    }
   ],
   "source": [
    "best_params"
   ]
  },
  {
   "attachments": {},
   "cell_type": "markdown",
   "metadata": {},
   "source": [
    "From grid search\n",
    "{'colsample_bytree': 0.3,\n",
    " 'gamma': 0.0,\n",
    " 'learning_rate': 0.1,\n",
    " 'max_depth': 3,\n",
    " 'min_child_weight': 7}"
   ]
  },
  {
   "attachments": {},
   "cell_type": "markdown",
   "metadata": {},
   "source": [
    "# Conclusion\n",
    "\n",
    "XGboost model is fitting poorly the data and predictions are just slightly better than random guessing. One way of improving the model could be adding new features, wich is not easy in our context. Therefore is better to use other models.\n"
   ]
  },
  {
   "attachments": {},
   "cell_type": "markdown",
   "metadata": {},
   "source": []
  }
 ],
 "metadata": {
  "kernelspec": {
   "display_name": "Python 3",
   "language": "python",
   "name": "python3"
  },
  "language_info": {
   "codemirror_mode": {
    "name": "ipython",
    "version": 3
   },
   "file_extension": ".py",
   "mimetype": "text/x-python",
   "name": "python",
   "nbconvert_exporter": "python",
   "pygments_lexer": "ipython3",
   "version": "3.11.2"
  },
  "orig_nbformat": 4
 },
 "nbformat": 4,
 "nbformat_minor": 2
}
